{
  "nbformat": 4,
  "nbformat_minor": 0,
  "metadata": {
    "colab": {
      "name": "resuming_evaluting_automation.ipynb",
      "provenance": [],
      "authorship_tag": "ABX9TyPX9iGI/LybCKwyeqM/OABS",
      "include_colab_link": true
    },
    "kernelspec": {
      "name": "python3",
      "display_name": "Python 3"
    },
    "language_info": {
      "name": "python"
    }
  },
  "cells": [
    {
      "cell_type": "markdown",
      "metadata": {
        "id": "view-in-github",
        "colab_type": "text"
      },
      "source": [
        "<a href=\"https://colab.research.google.com/github/bharathkumarmanickam/spacy_nlp_resume_extractor/blob/main/resuming_evaluting_automation.ipynb\" target=\"_parent\"><img src=\"https://colab.research.google.com/assets/colab-badge.svg\" alt=\"Open In Colab\"/></a>"
      ]
    },
    {
      "cell_type": "code",
      "metadata": {
        "id": "VrYYEmwrqJbV"
      },
      "source": [
        "#Code by Bharath Kumar Manickam\n",
        "#Requirements To be install new\n",
        "!pip install pdfminer.six\n",
        "!pip install spacy #because spacy itself has many nlp structures means already pretrained models\n",
        "!python3 -m spacy download en_core_web_sm #english model\n",
        "!pip3 install pandas #data manipulation"
      ],
      "execution_count": null,
      "outputs": []
    },
    {
      "cell_type": "markdown",
      "metadata": {
        "id": "g9kPtEay5LY5"
      },
      "source": [
        "Little training in spacy library"
      ]
    },
    {
      "cell_type": "code",
      "metadata": {
        "id": "NgITCWleYNFA"
      },
      "source": [
        "#importing libraries\n",
        "import spacy\n",
        "nlp = spacy.load('en_core_web_sm')\n",
        "text = \"Iron Man is a superhero machine learning appearing in American comic books published by Marvel Comics. The character was co-created by writer and editor Stan Lee, developed by scripter Larry Lieber, and designed by artists Don Heck and Jack Kirby. The character made his first appearance in Tales of Suspense #39 (cover dated March 1963), and received his own title in Iron Man #1 (May 1968). Also in 1963, the character founded the Avengers alongside Thor, Ant-Man, Wasp and the Hulk. publication history, Iron Man has been a founding member of the superhero team the Avengers and has been featured in several incarnations of his own various comic book series. Iron Man has been adapted for several animated TV shows and films. In the Marvel Cinematic Universe, the character was portrayed by Robert Downey Jr., appearing in the films Iron Man (2008), \"\n",
        "words = nlp(text) #load the text with spacy language model then only we can do tokenize tagging parsing etc...\n",
        "#little spacy falvours because nlp is wide in research so we cant cover fully here\n",
        "for token in words:\n",
        "  print(token)\n",
        "\n",
        "#now we are going to take the noun words (if we leave to annotate the language model to read the paragraph it opens which is adjective,noun and opening and closing all that....)\n",
        "\n",
        "for token in words:\n",
        "  if token.pos_ == \"NOUN\":\n",
        "    print(token)\n",
        "\n",
        "#(named entity recongintion) it shows for ex google => organization , August => date like that whether it is noun,adjective etc..\n",
        "for namedentity in words.ents:\n",
        "  print(namedentity.text,namedentity.label_)\n"
      ],
      "execution_count": null,
      "outputs": []
    },
    {
      "cell_type": "markdown",
      "metadata": {
        "id": "kGEBCZT74_2P"
      },
      "source": [
        "Resume Extractor Starts Here"
      ]
    },
    {
      "cell_type": "code",
      "metadata": {
        "id": "FvEGJBWhW5s8"
      },
      "source": [
        "#resume automation starts here!!\n",
        "#Collecting requirement\n",
        "#https://raw.githubusercontent.com/pdfminer/pdfminer.six/develop/tools/pdf2txt.py => pdftotxt.py\n",
        "\n",
        "import pandas as pd #csv tabular \n",
        "import spacy #nlp\n",
        "import pdfminer # pdftotext\n",
        "import re #regex\n",
        "import os #file maupulation\n",
        "import pdf2txt\n",
        "\n",
        "#converting pdf to text\n",
        "\n",
        "def convert_to_pdf(f):\n",
        "  output_filename = os.path.basename(os.path.splitext(f)[0])+\".txt\" #hello.pdf => hello.txt because python has 0 index language\n",
        "  filepath = os.path.join(\"output/txt/\",output_filename)\n",
        "  pdf2txt.main(args=[f,\"--outfile\",filepath]) #the main function in pdf2txt takes multiple *args \n",
        "  print(filepath + \"Saved successfully\")\n",
        "  return open(filepath).read()\n",
        "\n",
        "#loading the language model\n",
        "nlp = spacy.load(\"en_core_web_sm\")\n",
        "\n",
        "#declaring the variables for extraction\n",
        "# why we are doing this means when we getting more files it will stores all information into structure format\n",
        "result = {'name':[],'phone':[],'email':[],'skills':[]}\n",
        "names=[]\n",
        "phones = []\n",
        "emails =[]\n",
        "skills =[]\n",
        "\n",
        "def parse_content(text):\n",
        "  skillset = re.compile(\"python|java|sql|tableau|hadoop|big data\") #skillset is defined in the basics of position for ex in this case we defined for data science role so we want skills like python, sql etc...\n",
        "  phone_num = re.compile(\"(\\d{3}[-\\.\\s]??\\d{3}[-\\.\\s]??\\d{4}|\\(\\d{3}\\)\\s*\\d{3}[-\\.\\s]??\\d{4}|\\d{3}[-\\.\\s]??\\d{4})\") #for matching mobile numbers\n",
        "  doc = nlp(text) #annotating the text => spacy\n",
        "  name = [candidate.text for candidate in doc.ents if candidate.label_ is \"PERSON\"][0] #all resumes contains name at first so i used [0] like first occurence  \n",
        "  email = [word for word in doc if word.like_email == True] #=>like_email is a spacy inbuilt return boolean\n",
        "  phone = re.findall(phone_num,text.lower())\n",
        "  skills_list = re.findall(skillset,text.lower())\n",
        "  unique_skills_list = str(set(skills_list)) # because if they use python in skills and they will tell the project section the name python again so we want to reduce it so we can use this set method because set method removes the duplicates \n",
        "  names.append(name)\n",
        "  phones.append(phone)\n",
        "  emails.append(email)\n",
        "  skills.append(unique_skills_list)\n",
        "  result['name'] = names\n",
        "  result['email'] = emails\n",
        "  result['phone'] = phones\n",
        "  result['skills'] = skills\n",
        "  print(\"Extraction Completed from the resume......\")\n",
        "  convertingtocsv()\n",
        "\n",
        "def convertingtocsv():\n",
        "  result_df = pd.DataFrame(result) #df => data frame used to see in strucutre prefect format\n",
        "  result_df.to_csv('output/csv/extractedinfo.csv')\n",
        "  print(\"Completed check on csv folder thank you for using me!!\")\n",
        "\n",
        "def main():\n",
        "  for file in os.listdir('resumes/'):\n",
        "    if file.endswith('.pdf'):\n",
        "      print(\"reading file.....\",file)\n",
        "      txt = convert_to_pdf(os.path.join('resumes/',file))\n",
        "      parse_content(txt)\n",
        "\n",
        "main()\n"
      ],
      "execution_count": null,
      "outputs": []
    }
  ]
}